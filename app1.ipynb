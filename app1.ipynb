{
 "cells": [
  {
   "cell_type": "code",
   "execution_count": 30,
   "metadata": {},
   "outputs": [],
   "source": [
    "# Cell 1: Import necessary libraries\n",
    "import pandas as pd\n",
    "import numpy as np\n",
    "from sklearn.model_selection import train_test_split\n",
    "from sklearn.preprocessing import StandardScaler\n",
    "from sklearn.svm import SVC\n",
    "from sklearn.metrics import accuracy_score, classification_report\n",
    "from sklearn.model_selection import GridSearchCV"
   ]
  },
  {
   "cell_type": "code",
   "execution_count": 31,
   "metadata": {},
   "outputs": [
    {
     "name": "stdout",
     "output_type": "stream",
     "text": [
      "Dataset Shape: (1000, 14)\n",
      "\n",
      "First 5 rows:\n",
      "     ID  No_Pation Gender  AGE  Urea  Cr  HbA1c  Chol   TG  HDL  LDL  VLDL  \\\n",
      "0  502      17975      F   50   4.7  46    4.9   4.2  0.9  2.4  1.4   0.5   \n",
      "1  735      34221      M   26   4.5  62    4.9   3.7  1.4  1.1  2.1   0.6   \n",
      "2  420      47975      F   50   4.7  46    4.9   4.2  0.9  2.4  1.4   0.5   \n",
      "3  680      87656      F   50   4.7  46    4.9   4.2  0.9  2.4  1.4   0.5   \n",
      "4  504      34223      M   33   7.1  46    4.9   4.9  1.0  0.8  2.0   0.4   \n",
      "\n",
      "    BMI CLASS  \n",
      "0  24.0     N  \n",
      "1  23.0     N  \n",
      "2  24.0     N  \n",
      "3  24.0     N  \n",
      "4  21.0     N  \n",
      "\n",
      "Dataset Info:\n",
      "\n",
      "<class 'pandas.core.frame.DataFrame'>\n",
      "RangeIndex: 1000 entries, 0 to 999\n",
      "Data columns (total 14 columns):\n",
      " #   Column     Non-Null Count  Dtype  \n",
      "---  ------     --------------  -----  \n",
      " 0   ID         1000 non-null   int64  \n",
      " 1   No_Pation  1000 non-null   int64  \n",
      " 2   Gender     1000 non-null   object \n",
      " 3   AGE        1000 non-null   int64  \n",
      " 4   Urea       1000 non-null   float64\n",
      " 5   Cr         1000 non-null   int64  \n",
      " 6   HbA1c      1000 non-null   float64\n",
      " 7   Chol       1000 non-null   float64\n",
      " 8   TG         1000 non-null   float64\n",
      " 9   HDL        1000 non-null   float64\n",
      " 10  LDL        1000 non-null   float64\n",
      " 11  VLDL       1000 non-null   float64\n",
      " 12  BMI        1000 non-null   float64\n",
      " 13  CLASS      1000 non-null   object \n",
      "dtypes: float64(8), int64(4), object(2)\n",
      "memory usage: 109.5+ KB\n"
     ]
    }
   ],
   "source": [
    "# Cell 2: Load and explore data\n",
    "# Load the dataset\n",
    "diabetes_dataset = pd.read_csv('newDiabetes.csv')\n",
    "\n",
    "# Display basic information\n",
    "print(\"Dataset Shape:\", diabetes_dataset.shape)\n",
    "print(\"\\nFirst 5 rows:\\n\", diabetes_dataset.head())\n",
    "print(\"\\nDataset Info:\\n\")\n",
    "diabetes_dataset.info()"
   ]
  },
  {
   "cell_type": "code",
   "execution_count": 32,
   "metadata": {},
   "outputs": [],
   "source": [
    "# Cell 3: Data Preprocessing\n",
    "def preprocess_data(df):\n",
    "    # Drop ID and No_Pation columns as they are not relevant for prediction\n",
    "    df = df.drop(['ID', 'No_Pation'], axis=1)\n",
    "    \n",
    "    # Convert Gender to numeric\n",
    "    df['Gender'] = df['Gender'].map({'M': 0, 'F': 1})\n",
    "    \n",
    "    # Handle CLASS (target variable)\n",
    "    df['CLASS'] = df['CLASS'].map({'N': 0, 'Y': 1, 'P': 2})\n",
    "    \n",
    "    # Check for any invalid values in numeric columns\n",
    "    numeric_columns = ['AGE', 'Urea', 'Cr', 'HbA1c', 'Chol', 'TG', 'HDL', 'LDL', 'VLDL', 'BMI']\n",
    "    df[numeric_columns] = df[numeric_columns].apply(pd.to_numeric, errors='coerce')\n",
    "    \n",
    "    # Remove rows with any invalid values\n",
    "    df = df.dropna()\n",
    "    \n",
    "    return df"
   ]
  },
  {
   "cell_type": "code",
   "execution_count": 33,
   "metadata": {},
   "outputs": [
    {
     "name": "stdout",
     "output_type": "stream",
     "text": [
      "\n",
      "Processed Dataset Shape: (994, 12)\n",
      "\n",
      "Class Distribution:\n",
      " 1.0    839\n",
      "0.0    102\n",
      "2.0     53\n",
      "Name: CLASS, dtype: int64\n"
     ]
    }
   ],
   "source": [
    "# Apply preprocessing\n",
    "processed_df = preprocess_data(diabetes_dataset)\n",
    "print(\"\\nProcessed Dataset Shape:\", processed_df.shape)\n",
    "print(\"\\nClass Distribution:\\n\", processed_df['CLASS'].value_counts())\n",
    "\n",
    "# Cell 4: Split features and target\n",
    "X = processed_df.drop('CLASS', axis=1)\n",
    "y = processed_df['CLASS']\n",
    "\n",
    "# Split the data\n",
    "X_train, X_test, y_train, y_test = train_test_split(X, y, test_size=0.2, \n",
    "                                                    random_state=42, \n",
    "                                                    stratify=y)\n",
    "# Scale the features\n",
    "scaler = StandardScaler()\n",
    "X_train_scaled = scaler.fit_transform(X_train)\n",
    "X_test_scaled = scaler.transform(X_test)\n",
    "\n",
    "# Cell 5: Model Training\n",
    "# Define parameter grid for SVM\n",
    "param_grid = {\n",
    "    'C': [0.1, 1, 10],\n",
    "    'kernel': ['linear', 'rbf'],\n",
    "    'gamma': ['scale', 'auto']\n",
    "}\n",
    "# Initialize SVM classifier\n",
    "svm = SVC(random_state=42, probability=True)\n",
    "\n",
    "# Perform GridSearchCV\n",
    "grid_search = GridSearchCV(\n",
    "    estimator=svm,\n",
    "    param_grid=param_grid,\n",
    "    cv=5,\n",
    "    n_jobs=-1,\n",
    "    verbose=1\n",
    ")"
   ]
  },
  {
   "cell_type": "code",
   "execution_count": 34,
   "metadata": {},
   "outputs": [
    {
     "name": "stdout",
     "output_type": "stream",
     "text": [
      "\n",
      "Training SVM model...\n",
      "Fitting 5 folds for each of 12 candidates, totalling 60 fits\n"
     ]
    }
   ],
   "source": [
    "# Train the model\n",
    "print(\"\\nTraining SVM model...\")\n",
    "grid_search.fit(X_train_scaled, y_train)\n",
    "\n",
    "# Get best model\n",
    "best_model = grid_search.best_estimator_\n",
    "\n",
    "# Cell 6: Model Evaluation\n",
    "# Make predictions\n",
    "y_pred = best_model.predict(X_test_scaled)"
   ]
  },
  {
   "cell_type": "code",
   "execution_count": 35,
   "metadata": {},
   "outputs": [
    {
     "name": "stdout",
     "output_type": "stream",
     "text": [
      "\n",
      "Best Parameters: {'C': 10, 'gamma': 'scale', 'kernel': 'rbf'}\n",
      "\n",
      "Accuracy Score: 0.9296\n",
      "\n",
      "Classification Report:\n",
      "              precision    recall  f1-score   support\n",
      "\n",
      "         0.0       0.85      0.85      0.85        20\n",
      "         1.0       0.95      0.98      0.97       168\n",
      "         2.0       0.50      0.27      0.35        11\n",
      "\n",
      "    accuracy                           0.93       199\n",
      "   macro avg       0.77      0.70      0.72       199\n",
      "weighted avg       0.92      0.93      0.92       199\n",
      "\n"
     ]
    }
   ],
   "source": [
    "# Print results\n",
    "print(\"\\nBest Parameters:\", grid_search.best_params_)\n",
    "print(f\"\\nAccuracy Score: {accuracy_score(y_test, y_pred):.4f}\")\n",
    "print(\"\\nClassification Report:\")\n",
    "print(classification_report(y_test, y_pred))"
   ]
  },
  {
   "cell_type": "code",
   "execution_count": 36,
   "metadata": {},
   "outputs": [
    {
     "name": "stdout",
     "output_type": "stream",
     "text": [
      "\n",
      "Model and scaler saved successfully!\n"
     ]
    }
   ],
   "source": [
    "# Cell 7: Save the model\n",
    "import joblib\n",
    "# Save the model and scaler\n",
    "joblib.dump(best_model, 'diabetes_model_svm.joblib')\n",
    "joblib.dump(scaler, 'scaler_svm.joblib')\n",
    "print(\"\\nModel and scaler saved successfully!\")"
   ]
  },
  {
   "cell_type": "code",
   "execution_count": 37,
   "metadata": {},
   "outputs": [
    {
     "name": "stdout",
     "output_type": "stream",
     "text": [
      "\n",
      "Prediction Results:\n",
      "Prediction: Non-Diabetic\n",
      "\n",
      "Probabilities:\n",
      "Non-Diabetic: 0.9834\n",
      "Diabetic: 0.0033\n",
      "Pre-Diabetic: 0.0133\n"
     ]
    }
   ],
   "source": [
    "def preprocess_data(df, is_training=False):\n",
    "    \"\"\"\n",
    "    Preprocess the data\n",
    "    \n",
    "    Parameters:\n",
    "    df (DataFrame): Input DataFrame\n",
    "    is_training (bool): Whether preprocessing training data or prediction data\n",
    "    \"\"\"\n",
    "    # Create a copy to avoid modifying original data\n",
    "    df = df.copy()\n",
    "    \n",
    "    # Drop ID and No_Pation columns\n",
    "    if 'ID' in df.columns:\n",
    "        df = df.drop(['ID', 'No_Pation'], axis=1)\n",
    "    \n",
    "    # Convert Gender to numeric\n",
    "    df['Gender'] = df['Gender'].map({'M': 0, 'F': 1})\n",
    "    \n",
    "    # Handle CLASS only if present (training data)\n",
    "    if 'CLASS' in df.columns and is_training:\n",
    "        df['CLASS'] = df['CLASS'].map({'N': 0, 'Y': 1, 'P': 2})\n",
    "    \n",
    "    # Convert numeric columns\n",
    "    numeric_columns = ['AGE', 'Urea', 'Cr', 'HbA1c', 'Chol', 'TG', 'HDL', 'LDL', 'VLDL', 'BMI']\n",
    "    df[numeric_columns] = df[numeric_columns].apply(pd.to_numeric, errors='coerce')\n",
    "    \n",
    "    # Remove rows with any invalid values\n",
    "    df = df.dropna()\n",
    "    \n",
    "    return df\n",
    "\n",
    "def predict_diabetes(input_data=None):\n",
    "    \"\"\"\n",
    "    Make predictions for new data\n",
    "    \"\"\"\n",
    "    if input_data is None:\n",
    "        # Use the sample data provided\n",
    "        input_data = {\n",
    "            'ID': 421,\n",
    "            'No_Pation': 34227,\n",
    "            'Gender': 'M',\n",
    "            'AGE': 48,\n",
    "            'Urea': 4.6,\n",
    "            'Cr': 47,\n",
    "            'HbA1c': 4,\n",
    "            'Chol': 2.9,\n",
    "            'TG': 0.8,\n",
    "            'HDL': 0.9,\n",
    "            'LDL': 1.6,\n",
    "            'VLDL': 0.4,\n",
    "            'BMI': 24\n",
    "        }\n",
    "    \n",
    "    try:\n",
    "        # Convert input to DataFrame\n",
    "        input_df = pd.DataFrame([input_data])\n",
    "        \n",
    "        # Preprocess input (set is_training=False)\n",
    "        input_df = preprocess_data(input_df, is_training=False)\n",
    "        \n",
    "        # Scale features\n",
    "        input_scaled = scaler.transform(input_df)\n",
    "        \n",
    "        # Make prediction\n",
    "        prediction = best_model.predict(input_scaled)\n",
    "        probabilities = best_model.predict_proba(input_scaled)\n",
    "        \n",
    "        # Map prediction to class\n",
    "        class_map = {0: 'Non-Diabetic', 1: 'Diabetic', 2: 'Pre-Diabetic'}\n",
    "        result = class_map[prediction[0]]\n",
    "        \n",
    "        return {\n",
    "            'prediction': result,\n",
    "            'probabilities': {\n",
    "                'Non-Diabetic': probabilities[0][0],\n",
    "                'Diabetic': probabilities[0][1],\n",
    "                'Pre-Diabetic': probabilities[0][2]\n",
    "            }\n",
    "        }\n",
    "    \n",
    "    except Exception as e:\n",
    "        return f\"Error making prediction: {str(e)}\"\n",
    "\n",
    "# Test the model with the sample data\n",
    "result = predict_diabetes()\n",
    "print(\"\\nPrediction Results:\")\n",
    "if isinstance(result, dict):\n",
    "    print(f\"Prediction: {result['prediction']}\")\n",
    "    print(\"\\nProbabilities:\")\n",
    "    for class_name, prob in result['probabilities'].items():\n",
    "        print(f\"{class_name}: {prob:.4f}\")\n",
    "else:\n",
    "    print(result)"
   ]
  }
 ],
 "metadata": {
  "kernelspec": {
   "display_name": "Python 3",
   "language": "python",
   "name": "python3"
  },
  "language_info": {
   "codemirror_mode": {
    "name": "ipython",
    "version": 3
   },
   "file_extension": ".py",
   "mimetype": "text/x-python",
   "name": "python",
   "nbconvert_exporter": "python",
   "pygments_lexer": "ipython3",
   "version": "3.10.7"
  }
 },
 "nbformat": 4,
 "nbformat_minor": 2
}
